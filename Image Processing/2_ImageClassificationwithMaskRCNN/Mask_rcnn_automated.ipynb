{
 "cells": [
  {
   "cell_type": "markdown",
   "id": "equal-cheat",
   "metadata": {},
   "source": [
    "# Predict with pre-trained Mask RCNN models"
   ]
  },
  {
   "cell_type": "markdown",
   "id": "destroyed-hungarian",
   "metadata": {},
   "source": [
    "Mask RCNN networks are extensions to Faster RCNN networks. :py:class:gluoncv.model_zoo.MaskRCNN is inherited from :py:class:gluoncv.model_zoo.FasterRCNN. It is highly recommended to read :doc:../examples_detection/demo_faster_rcnn first.\n",
    "\n",
    "First let's import some necessary libraries:"
   ]
  },
  {
   "cell_type": "code",
   "execution_count": 1,
   "id": "a30dec94",
   "metadata": {},
   "outputs": [],
   "source": [
    "%matplotlib inline\n",
    "from matplotlib import pyplot as plt\n",
    "from gluoncv import model_zoo, data, utils"
   ]
  },
  {
   "cell_type": "markdown",
   "id": "inclusive-string",
   "metadata": {},
   "source": [
    "# Load a pretrained model"
   ]
  },
  {
   "cell_type": "markdown",
   "id": "honest-intent",
   "metadata": {},
   "source": [
    "Let's get an Mask RCNN model trained on COCO dataset with ResNet-50 backbone. By specifying pretrained=True, it will automatically download the model from the model zoo if necessary. For more pretrained models, please refer to :doc:../../model_zoo/index.\n",
    "\n",
    "The returned model is a HybridBlock :py:class:gluoncv.model_zoo.MaskRCNN with a default context of cpu(0)."
   ]
  },
  {
   "cell_type": "code",
   "execution_count": 2,
   "id": "d0ca3a86",
   "metadata": {},
   "outputs": [
    {
     "name": "stdout",
     "output_type": "stream",
     "text": [
      "Downloading /home/uqdluo/.mxnet/models/mask_rcnn_resnet50_v1b_coco-a3527fdc.zip from https://apache-mxnet.s3-accelerate.dualstack.amazonaws.com/gluon/models/mask_rcnn_resnet50_v1b_coco-a3527fdc.zip...\n"
     ]
    },
    {
     "name": "stderr",
     "output_type": "stream",
     "text": [
      "100%|██████████| 131497/131497 [00:04<00:00, 28393.09KB/s]\n"
     ]
    }
   ],
   "source": [
    "net = model_zoo.get_model('mask_rcnn_resnet50_v1b_coco', pretrained=True)"
   ]
  },
  {
   "cell_type": "markdown",
   "id": "miniature-friendly",
   "metadata": {},
   "source": [
    "# Automated Process\n",
    "----------------\n",
    "This part will automate the process of loading images in input folder, doing instance segmentations, saving a summary result csv, and saving output images with masks)\n"
   ]
  },
  {
   "cell_type": "markdown",
   "id": "changed-integration",
   "metadata": {},
   "source": [
    "## !!! Please read before running this cell\n",
    "Make sure that the path_in variable is set to the folder containing your images.\n",
    "\n",
    "Make sure a folder called 'MaskRCNN' is created in the same folder as the Jupyter notebook file."
   ]
  },
  {
   "cell_type": "code",
   "execution_count": 3,
   "id": "f5b2c994",
   "metadata": {},
   "outputs": [
    {
     "name": "stdout",
     "output_type": "stream",
     "text": [
      "Number of Image Files in the folder: 4\n"
     ]
    }
   ],
   "source": [
    "# 1. Load all downloaded images\n",
    "from os import listdir\n",
    "from os.path import isfile, join\n",
    "import pandas as pd\n",
    "\n",
    "# Edit this to fit your environment\n",
    "path_in='Images/'\n",
    "path_out='MaskRCNN/'\n",
    "\n",
    "all_files = [f for f in listdir(path_in)]\n",
    "# Get only jpeg files\n",
    "jpg_files = list(filter(lambda x: x[-5:] == ('.jpeg') or x[-4:] == ('.jpg'), all_files))\n",
    "jpg_files.sort()\n",
    "#print(jpg_files) \n",
    "print(\"Number of Image Files in the folder:\",len(jpg_files))\n"
   ]
  },
  {
   "cell_type": "markdown",
   "id": "dominant-recovery",
   "metadata": {},
   "source": [
    "## ! Please read before running this cell !\n",
    "\n",
    "### Change the starrNum (Start Number) and endNum (End number) to the index of the images that you intended to process\n",
    "\n",
    "Check the return value from the cell above for the total number of images indexed."
   ]
  },
  {
   "cell_type": "code",
   "execution_count": 4,
   "id": "0a41852b",
   "metadata": {},
   "outputs": [
    {
     "name": "stdout",
     "output_type": "stream",
     "text": [
      "Processing: 1/4 - 15730.jpg\n",
      "Finish 15730.jpg, start next photo\n",
      "Processing: 2/4 - 16565.jpg\n",
      "Finish 16565.jpg, start next photo\n",
      "Processing: 3/4 - 5219.jpg\n",
      "Finish 5219.jpg, start next photo\n",
      "Processing: 4/4 - 6829.jpg\n",
      "Finish 6829.jpg, start next photo\n",
      "---------COMPLETED !!!----------\n",
      "Successfully saved mcnn_results_0-3.csv\n"
     ]
    },
    {
     "data": {
      "text/html": [
       "<div>\n",
       "<style scoped>\n",
       "    .dataframe tbody tr th:only-of-type {\n",
       "        vertical-align: middle;\n",
       "    }\n",
       "\n",
       "    .dataframe tbody tr th {\n",
       "        vertical-align: top;\n",
       "    }\n",
       "\n",
       "    .dataframe thead th {\n",
       "        text-align: right;\n",
       "    }\n",
       "</style>\n",
       "<table border=\"1\" class=\"dataframe\">\n",
       "  <thead>\n",
       "    <tr style=\"text-align: right;\">\n",
       "      <th></th>\n",
       "      <th>FID</th>\n",
       "      <th>bench</th>\n",
       "      <th>bird</th>\n",
       "      <th>car</th>\n",
       "      <th>bicycle</th>\n",
       "      <th>bus</th>\n",
       "      <th>person</th>\n",
       "      <th>handbag</th>\n",
       "      <th>fire hydrant</th>\n",
       "      <th>truck</th>\n",
       "    </tr>\n",
       "  </thead>\n",
       "  <tbody>\n",
       "    <tr>\n",
       "      <th>0</th>\n",
       "      <td>15730</td>\n",
       "      <td>4.0</td>\n",
       "      <td>1.0</td>\n",
       "      <td>1.0</td>\n",
       "      <td>NaN</td>\n",
       "      <td>NaN</td>\n",
       "      <td>NaN</td>\n",
       "      <td>NaN</td>\n",
       "      <td>NaN</td>\n",
       "      <td>NaN</td>\n",
       "    </tr>\n",
       "    <tr>\n",
       "      <th>1</th>\n",
       "      <td>16565</td>\n",
       "      <td>NaN</td>\n",
       "      <td>NaN</td>\n",
       "      <td>3.0</td>\n",
       "      <td>1.0</td>\n",
       "      <td>1.0</td>\n",
       "      <td>7.0</td>\n",
       "      <td>NaN</td>\n",
       "      <td>NaN</td>\n",
       "      <td>NaN</td>\n",
       "    </tr>\n",
       "    <tr>\n",
       "      <th>2</th>\n",
       "      <td>5219</td>\n",
       "      <td>NaN</td>\n",
       "      <td>NaN</td>\n",
       "      <td>13.0</td>\n",
       "      <td>NaN</td>\n",
       "      <td>NaN</td>\n",
       "      <td>10.0</td>\n",
       "      <td>1.0</td>\n",
       "      <td>NaN</td>\n",
       "      <td>NaN</td>\n",
       "    </tr>\n",
       "    <tr>\n",
       "      <th>3</th>\n",
       "      <td>6829</td>\n",
       "      <td>NaN</td>\n",
       "      <td>NaN</td>\n",
       "      <td>8.0</td>\n",
       "      <td>NaN</td>\n",
       "      <td>NaN</td>\n",
       "      <td>NaN</td>\n",
       "      <td>NaN</td>\n",
       "      <td>1.0</td>\n",
       "      <td>3.0</td>\n",
       "    </tr>\n",
       "  </tbody>\n",
       "</table>\n",
       "</div>"
      ],
      "text/plain": [
       "     FID  bench  bird   car  bicycle  bus  person  handbag  fire hydrant  \\\n",
       "0  15730    4.0   1.0   1.0      NaN  NaN     NaN      NaN           NaN   \n",
       "1  16565    NaN   NaN   3.0      1.0  1.0     7.0      NaN           NaN   \n",
       "2   5219    NaN   NaN  13.0      NaN  NaN    10.0      1.0           NaN   \n",
       "3   6829    NaN   NaN   8.0      NaN  NaN     NaN      NaN           1.0   \n",
       "\n",
       "   truck  \n",
       "0    NaN  \n",
       "1    NaN  \n",
       "2    NaN  \n",
       "3    3.0  "
      ]
     },
     "execution_count": 4,
     "metadata": {},
     "output_type": "execute_result"
    }
   ],
   "source": [
    "# 2. Automate the process\n",
    "# Please change the following parameters\n",
    "startNum = 0 # Starting index\n",
    "endNum = 4 # Ending index\n",
    "\n",
    "# 2.1 Define the features if you want\n",
    "keywords=['person','bicycle','car','motorcycle','bus','truck','boat','traffic light','dog','dining table']\n",
    "\n",
    "# 2.2 Load images in the folder, and build an empty dataframe to save the results\n",
    "import pandas as pd\n",
    "df_mcnn=pd.DataFrame()\n",
    "\n",
    "ID=0 # The index we use to save MaskCNN results\n",
    "\n",
    "for filename in jpg_files[startNum:endNum]:\n",
    "    # 1. Loading images\n",
    "    # 1.1 Define Image path\n",
    "    im_fname = path_in+filename\n",
    "#     print(im_fname, filename)\n",
    "\n",
    "    # 1.2 Load image data and feed into x (transformed NDArray with shape) and orig_img (image itself)\n",
    "    x,orig_img = data.transforms.presets.rcnn.load_test(im_fname)\n",
    "    \n",
    "    # 1.3 Display the image\n",
    "    #plt.imshow(orig_img)\n",
    "    #plt.show()\n",
    "    \n",
    "    # 1.4 Get the image name as FID\n",
    "    FID=(filename.split('.')[0])\n",
    "\n",
    "    # 1.5 Start a new row in the dataframe\n",
    "    df_mcnn.loc[ID,'FID']=FID\n",
    "       \n",
    "    # 2. MaskRCNN analyze a single image\n",
    "    \n",
    "    # Optional Timer\n",
    "#     from datetime import datetime\n",
    "#     startTime = datetime.now() # initiate timer\n",
    "    print('Processing: %d/%d - %s'%((ID+1),(endNum-startNum),filename))\n",
    "\n",
    "    ### 2.1 Get MaskRcnn Results\n",
    "    ids, scores, bboxes, masks = [xx[0].asnumpy() for xx in net(x)]\n",
    "\n",
    "    ### 2.2 Paint Segmentation Mask on images Directly\n",
    "    width, height = orig_img.shape[1], orig_img.shape[0]\n",
    "    masks, _ = utils.viz.expand_mask(masks, bboxes, (width, height), scores)\n",
    "    orig_img = utils.viz.plot_mask(orig_img, masks)\n",
    "\n",
    "    ### 2.3 Identical to Faster RCNN object detection\n",
    "    fig = plt.figure(figsize=(10, 10))\n",
    "    ax = fig.add_subplot(1, 1, 1)\n",
    "    ax = utils.viz.plot_bbox(orig_img, bboxes, scores, ids,\n",
    "                             class_names=net.classes, ax=ax)\n",
    "\n",
    "    # Stop optional timer\n",
    "#     print(\"runtime:\",datetime.now()-startTime) # Print stop timer\n",
    "\n",
    "    ### 2.4 Save the MaskRCNN image\n",
    "    fig.savefig(\"MaskRCNN/\"+FID+\".png\",bbox_inches='tight')\n",
    "    plt.close()\n",
    "    #plt.show()\n",
    "    \n",
    "    ### 2.5 Get the list of validated results with probability likelihood >0.5\n",
    "    MCNN_List=[]\n",
    "    for i in range(len(ids)):\n",
    "        classID,classscore=(int(ids[i]),scores[i])\n",
    "        if classscore>0.6: \n",
    "            className=net.classes[classID]\n",
    "            MCNN_List.append(className)\n",
    "                \n",
    "    \n",
    "    ### 2.6 Build a dataframe to save the result\n",
    "    import collections, numpy    \n",
    "    unique, counts = numpy.unique(MCNN_List, return_counts=True)\n",
    "    for i in range(len(unique)):\n",
    "        cls_name=unique[i]\n",
    "        cnt=int(counts[i])\n",
    "        df_mcnn.loc[ID,cls_name]=cnt\n",
    "        \n",
    "    print('Finish %s, start next photo'%(filename))    \n",
    "    ID+=1\n",
    "    \n",
    "# 2.8 Save the MaskCNN results to csv file\n",
    "df_mcnn.to_csv('mcnn_results_%d-%d.csv'%(startNum,endNum-1), index=False, encoding='utf-8')\n",
    "print('---------COMPLETED !!!----------')\n",
    "print('Successfully saved mcnn_results_%d-%d.csv'%(startNum,endNum-1))\n",
    "df_mcnn.head()"
   ]
  },
  {
   "cell_type": "markdown",
   "id": "generous-cancellation",
   "metadata": {},
   "source": [
    "# End of this week's assignment"
   ]
  }
 ],
 "metadata": {
  "kernelspec": {
   "display_name": "Python 3 (ipykernel)",
   "language": "python",
   "name": "python3"
  },
  "language_info": {
   "codemirror_mode": {
    "name": "ipython",
    "version": 3
   },
   "file_extension": ".py",
   "mimetype": "text/x-python",
   "name": "python",
   "nbconvert_exporter": "python",
   "pygments_lexer": "ipython3",
   "version": "3.9.10"
  }
 },
 "nbformat": 4,
 "nbformat_minor": 5
}
