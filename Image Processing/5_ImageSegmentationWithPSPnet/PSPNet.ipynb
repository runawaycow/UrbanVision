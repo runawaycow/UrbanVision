{
 "cells": [
  {
   "cell_type": "markdown",
   "metadata": {},
   "source": [
    "# PspNet Semantic Segmentation\n",
    "\n",
    "#### General Workflow:\n",
    "1. Load Google street view images\n",
    "2. Segment the images\n",
    "3. Save results to a .csv\n",
    "\n",
    "# If you do not have mxnet installed (or any other package)\n",
    "1. pip install packageName\n",
    "2. pip install --upgrade packageName\n",
    "3. Example: pip install mxnet\n"
   ]
  },
  {
   "cell_type": "markdown",
   "metadata": {},
   "source": [
    "### Defining the Color Pallete for different street features"
   ]
  },
  {
   "cell_type": "code",
   "execution_count": 1,
   "metadata": {},
   "outputs": [],
   "source": [
    "# Defining Colour Pallete\n",
    "from collections import namedtuple\n",
    "import scipy.io\n",
    "Label = namedtuple('Label', ['name','id','color'])  # Colour is in RGB format\n",
    "labels_ade = [Label('wall', 0, (120, 120, 120)),\n",
    "        Label('building', 1, (180, 120, 120)),\n",
    "        Label('sky', 2, (6, 230, 230)),\n",
    "        Label('floor', 3, (80, 50, 50)),\n",
    "        Label('tree', 4, (4, 200, 3)),\n",
    "        Label('ceiling', 5, (120, 120, 80)),\n",
    "        Label('road', 6, (140, 140, 140)),\n",
    "        Label('bed', 7, (204, 5, 255)),\n",
    "        Label('windowpane', 8, (230, 230, 230)),\n",
    "        Label('grass', 9, (4, 250, 7)),\n",
    "        Label('cabinet', 10, (224, 5, 255)),\n",
    "        Label('sidewalk', 11, (235, 255, 7)),\n",
    "        Label('person', 12, (150, 5, 61)),\n",
    "        Label('earth', 13, (120, 120, 70)),\n",
    "        Label('door', 14, (8, 255, 51)),\n",
    "        Label('table', 15, (255, 6, 82)),\n",
    "        Label('mountain', 16, (143, 255, 140)),\n",
    "        Label('plant', 17, (204, 255, 4)),\n",
    "        Label('curtain', 18, (255, 51, 7)),\n",
    "        Label('chair', 19, (204, 70, 3)),\n",
    "        Label('car', 20, (0, 102, 200)),\n",
    "        Label('water', 21, (61, 230, 250)),\n",
    "        Label('painting', 22, (255, 6, 51)),\n",
    "        Label('sofa', 23, (11, 102, 255)),\n",
    "        Label('shelf', 24, (255, 7, 71)),\n",
    "        Label('house', 25, (255, 9, 224)),\n",
    "        Label('sea', 26, (9, 7, 230)),\n",
    "        Label('mirror', 27, (220, 220, 220)),\n",
    "        Label('rug', 28, (255, 9, 92)),\n",
    "        Label('field', 29, (112, 9, 255)),\n",
    "        Label('armchair', 30, (8, 255, 214)),\n",
    "        Label('seat', 31, (7, 255, 224)),\n",
    "        Label('fence', 32, (255, 184, 6)),\n",
    "        Label('desk', 33, (10, 255, 71)),\n",
    "        Label('rock', 34, (255, 41, 10)),\n",
    "        Label('wardrobe', 35, (7, 255, 255)),\n",
    "        Label('lamp', 36, (224, 255, 8)),\n",
    "        Label('bathtub', 37, (102, 8, 255)),\n",
    "        Label('railing', 38, (255, 61, 6)),\n",
    "        Label('cushion', 39, (255, 194, 7)),\n",
    "        Label('base', 40, (255, 122, 8)),\n",
    "        Label('box', 41, (0, 255, 20)),\n",
    "        Label('column', 42, (255, 8, 41)),\n",
    "        Label('signboard', 43, (255, 5, 153)),\n",
    "        Label('chest of drawers', 44, (6, 51, 255)),\n",
    "        Label('counter', 45, (235, 12, 255)),\n",
    "        Label('sand', 46, (160, 150, 20)),\n",
    "        Label('sink', 47, (0, 163, 255)),\n",
    "        Label('skyscraper', 48, (140, 140, 140)),\n",
    "        Label('fireplace', 49, (250, 10, 15)),\n",
    "        Label('refrigerator', 50, (20, 255, 0)),\n",
    "        Label('grandstand', 51, (31, 255, 0)),\n",
    "        Label('path', 52, (255, 31, 0)),\n",
    "        Label('stairs', 53, (255, 224, 0)),\n",
    "        Label('runway', 54, (153, 255, 0)),\n",
    "        Label('case', 55, (0, 0, 255)),\n",
    "        Label('pool table', 56, (255, 71, 0)),\n",
    "        Label('pillow', 57, (0, 235, 255)),\n",
    "        Label('screen door', 58, (0, 173, 255)),\n",
    "        Label('stairway', 59, (31, 0, 255)),\n",
    "        Label('river', 60, (11, 200, 200)),\n",
    "        Label('bridge', 61, (255, 82, 0)),\n",
    "        Label('bookcase', 62, (0, 255, 245)),\n",
    "        Label('blind', 63, (0, 61, 255)),\n",
    "        Label('coffee table', 64, (0, 255, 112)),\n",
    "        Label('toilet', 65, (0, 255, 133)),\n",
    "        Label('flower', 66, (255, 0, 0)),\n",
    "        Label('book', 67, (255, 163, 0)),\n",
    "        Label('hill', 68, (255, 102, 0)),\n",
    "        Label('bench', 69, (194, 255, 0)),\n",
    "        Label('countertop', 70, (0, 143, 255)),\n",
    "        Label('stove', 71, (51, 255, 0)),\n",
    "        Label('palm', 72, (0, 82, 255)),\n",
    "        Label('kitchen island', 73, (0, 255, 41)),\n",
    "        Label('computer', 74, (0, 255, 173)),\n",
    "        Label('swivel chair', 75, (10, 0, 255)),\n",
    "        Label('boat', 76, (173, 255, 0)),\n",
    "        Label('bar', 77, (0, 255, 153)),\n",
    "        Label('arcade machine', 78, (255, 92, 0)),\n",
    "        Label('hovel', 79, (255, 0, 255)),\n",
    "        Label('bus', 80, (255, 0, 245)),\n",
    "        Label('towel', 81, (255, 0, 102)),\n",
    "        Label('light', 82, (255, 173, 0)),\n",
    "        Label('truck', 83, (255, 0, 20)),\n",
    "        Label('tower', 84, (255, 184, 184)),\n",
    "        Label('chandelier', 85, (0, 31, 255)),\n",
    "        Label('awning', 86, (0, 255, 61)),\n",
    "        Label('streetlight', 87, (0, 71, 255)),\n",
    "        Label('booth', 88, (255, 0, 204)),\n",
    "        Label('television receiver', 89, (0, 255, 194)),\n",
    "        Label('airplane', 90, (0, 255, 82)),\n",
    "        Label('dirt track', 91, (0, 10, 255)),\n",
    "        Label('apparel', 92, (0, 112, 255)),\n",
    "        Label('pole', 93, (51, 0, 255)),\n",
    "        Label('land', 94, (0, 194, 255)),\n",
    "        Label('bannister', 95, (0, 122, 255)),\n",
    "        Label('escalator', 96, (0, 255, 163)),\n",
    "        Label('ottoman', 97, (255, 153, 0)),\n",
    "        Label('bottle', 98, (0, 255, 10)),\n",
    "        Label('buffet', 99, (255, 112, 0)),\n",
    "        Label('poster', 100, (143, 255, 0)),\n",
    "        Label('stage', 101, (82, 0, 255)),\n",
    "        Label('van', 102, (163, 255, 0)),\n",
    "        Label('ship', 103, (255, 235, 0)),\n",
    "        Label('fountain', 104, (8, 184, 170)),\n",
    "        Label('conveyer belt', 105, (133, 0, 255)),\n",
    "        Label('canopy', 106, (0, 255, 92)),\n",
    "        Label('washer', 107, (184, 0, 255)),\n",
    "        Label('plaything', 108, (255, 0, 31)),\n",
    "        Label('swimming pool', 109, (0, 184, 255)),\n",
    "        Label('stool', 110, (0, 214, 255)),\n",
    "        Label('barrel', 111, (255, 0, 112)),\n",
    "        Label('basket', 112, (92, 255, 0)),\n",
    "        Label('waterfall', 113, (0, 224, 255)),\n",
    "        Label('tent', 114, (112, 224, 255)),\n",
    "        Label('bag', 115, (70, 184, 160)),\n",
    "        Label('minibike', 116, (163, 0, 255)),\n",
    "        Label('cradle', 117, (153, 0, 255)),\n",
    "        Label('oven', 118, (71, 255, 0)),\n",
    "        Label('ball', 119, (255, 0, 163)),\n",
    "        Label('food', 120, (255, 204, 0)),\n",
    "        Label('step', 121, (255, 0, 143)),\n",
    "        Label('tank', 122, (0, 255, 235)),\n",
    "        Label('trade name', 123, (133, 255, 0)),\n",
    "        Label('microwave', 124, (255, 0, 235)),\n",
    "        Label('pot', 125, (245, 0, 255)),\n",
    "        Label('animal', 126, (255, 0, 122)),\n",
    "        Label('bicycle', 127, (255, 245, 0)),\n",
    "        Label('lake', 128, (10, 190, 212)),\n",
    "        Label('dishwasher', 129, (214, 255, 0)),\n",
    "        Label('screen', 130, (0, 204, 255)),\n",
    "        Label('blanket', 131, (20, 0, 255)),\n",
    "        Label('sculpture', 132, (255, 255, 0)),\n",
    "        Label('hood', 133, (0, 153, 255)),\n",
    "        Label('sconce', 134, (0, 41, 255)),\n",
    "        Label('vase', 135, (0, 255, 204)),\n",
    "        Label('traffic light', 136, (41, 0, 255)),\n",
    "        Label('tray', 137, (41, 255, 0)),\n",
    "        Label('ashcan', 138, (173, 0, 255)),\n",
    "        Label('fan', 139, (0, 245, 255)),\n",
    "        Label('pier', 140, (71, 0, 255)),\n",
    "        Label('crt screen', 141, (122, 0, 255)),\n",
    "        Label('plate', 142, (0, 255, 184)),\n",
    "        Label('monitor', 143, (0, 92, 255)),\n",
    "        Label('bulletin board', 144, (184, 255, 0)),\n",
    "        Label('shower', 145, (0, 133, 255)),\n",
    "        Label('radiator', 146, (255, 214, 0)),\n",
    "        Label('glass', 147, (25, 194, 194)),\n",
    "        Label('clock', 148, (102, 255, 0)),\n",
    "        Label('flag', 149, (92, 0, 255))]\n",
    "\n",
    "labels_citys = [\n",
    "    #     name id trainId  category catId  hasInstances ignoreInEval  color\n",
    "    Label('unlabeled',  0,  (0,  0,  0)),\n",
    "    Label('ego vehicle',  1,    (0,  0,  0)),\n",
    "    Label('rectification border',  2,   (0,  0,  0)),\n",
    "    Label('out of roi',  3,     (0,  0,  0)),\n",
    "    Label('static',  4,     (0,  0,  0)),\n",
    "    Label('dynamic',  5,    (111, 74,  0)),\n",
    "    Label('ground',  6,     (81,  0, 81)),\n",
    "    Label('road',  7,       (128, 64, 128)),\n",
    "    Label('sidewalk',  8,   (244, 35, 232)),\n",
    "    Label('parking',  9,      (250, 170, 160)),\n",
    "    Label('rail track', 10,      (230, 150, 140)),\n",
    "    Label('building', 11,        (70, 70, 70)),\n",
    "    Label('wall', 12,        (102, 102, 156)),\n",
    "    Label('fence', 13,        (190, 153, 153)),\n",
    "    Label('guard rail', 14,      (180, 165, 180)),\n",
    "    Label('bridge', 15,      (150, 100, 100)),\n",
    "    Label('tunnel', 16,      (150, 120, 90)),\n",
    "    Label('pole', 17,        (153, 153, 153)),\n",
    "    Label('polegroup', 18,      (153, 153, 153)),\n",
    "    Label('traffic light', 19,        (250, 170, 30)),\n",
    "    Label('traffic sign', 20,        (220, 220,  0)),\n",
    "    Label('vegetation', 21,        (107, 142, 35)),\n",
    "    Label('terrain', 22,    (152, 251, 152)),\n",
    "    Label('sky', 23,(70, 130, 180)),\n",
    "    Label('person', 24,(220, 20, 60)),\n",
    "    Label('rider', 25,(255,  0,  0)),\n",
    "    Label('car', 26,(0,  0, 142)),\n",
    "    Label('truck', 27,(0,  0, 70)),\n",
    "    Label('bus', 28, (0, 60, 100)),\n",
    "    Label('caravan', 29,(0,  0, 90)),\n",
    "    Label('trailer', 30,(0,  0, 110)),\n",
    "    Label('train', 31, (0, 80, 100)),\n",
    "    Label('motorcycle', 32,(0,  0, 230)),\n",
    "    Label('bicycle', 33, (119, 11, 32)),\n",
    "    Label('license plate', -1, (0,  0, 142)),\n",
    "]\n",
    "\n",
    "ade20k_id2label = {label.id: label for label in labels_ade}\n",
    "citys_id2label = {label.id: label for label in labels_citys}"
   ]
  },
  {
   "cell_type": "markdown",
   "metadata": {},
   "source": [
    "### 2. Generate the downloaded jpg list"
   ]
  },
  {
   "cell_type": "markdown",
   "metadata": {},
   "source": [
    "### ! Please Check before running the following cell !\n",
    "#### Your previously downloaded Google API images should be copied into your week 2 folder.\n",
    "\n",
    "OPTIONAL: If it is in any other folder, the folder need to be in the same directory as this code, and change the folder name in the code below"
   ]
  },
  {
   "cell_type": "code",
   "execution_count": 2,
   "metadata": {},
   "outputs": [
    {
     "name": "stdout",
     "output_type": "stream",
     "text": [
      "Photo path is: Images/\n"
     ]
    }
   ],
   "source": [
    "# Image path config\n",
    "path=\"Images/\" # Change the path to the folder where you put Street view images\n",
    "print(\"Photo path is: %s\"%(path))"
   ]
  },
  {
   "cell_type": "markdown",
   "metadata": {},
   "source": [
    "If everything is working the cell below should show how many images are in the folder and the name of the first two images."
   ]
  },
  {
   "cell_type": "code",
   "execution_count": 3,
   "metadata": {},
   "outputs": [
    {
     "name": "stdout",
     "output_type": "stream",
     "text": [
      "1.Image Files in the folder: 4\n",
      "['15730.jpg', '16565.jpg', '5219.jpg']\n"
     ]
    }
   ],
   "source": [
    "# Generate jpg list\n",
    "from os import listdir\n",
    "from mxnet import image\n",
    "from os.path import isfile, join\n",
    "import pandas as pd\n",
    "\n",
    "all_files = [f for f in listdir(path)]\n",
    "### Get only text files\n",
    "jpg_files = list(filter(lambda x: x[-5:] == ('.jpeg') or x[-4:] == ('.jpg'), all_files))\n",
    "jpg_files.sort()\n",
    "\n",
    "#print(jpg_files) \n",
    "print(\"1.Image Files in the folder:\",len(jpg_files))\n",
    "\n",
    "#show the first three images\n",
    "print(jpg_files[0:3])"
   ]
  },
  {
   "cell_type": "markdown",
   "metadata": {},
   "source": [
    "### 2.1 Test whether the images can be called and what are there format"
   ]
  },
  {
   "cell_type": "markdown",
   "metadata": {},
   "source": [
    "If everything is working the cell below should show image shape: (400, 640, 3)"
   ]
  },
  {
   "cell_type": "code",
   "execution_count": 4,
   "metadata": {},
   "outputs": [
    {
     "name": "stdout",
     "output_type": "stream",
     "text": [
      "16565\n",
      "16565.jpg image shape: (400, 640, 3)\n"
     ]
    }
   ],
   "source": [
    "### 2.1 Get image\n",
    "for filename in jpg_files[1:2]:\n",
    "    print((filename.split('.')[0]))\n",
    "    ### 1.Read the jpg file\n",
    "    img = image.imread(path+filename)\n",
    "    print(filename,'image shape:',img.shape)"
   ]
  },
  {
   "cell_type": "markdown",
   "metadata": {},
   "source": [
    "### 3.Apply PSPNet to images and generate a csv"
   ]
  },
  {
   "cell_type": "code",
   "execution_count": 5,
   "metadata": {},
   "outputs": [],
   "source": [
    "# Apply PSPNET to images and generate a .csv\n",
    "import mxnet as mx\n",
    "from mxnet import image\n",
    "from mxnet.gluon.data.vision import transforms\n",
    "import gluoncv\n",
    "from datetime import datetime\n",
    "from matplotlib import pyplot as plt\n",
    "import matplotlib.image as mpimg\n",
    "import matplotlib.patches as mpatches \n",
    "from matplotlib.font_manager import FontProperties\n",
    "import numpy as np\n",
    "import collections\n",
    "from gluoncv.utils.viz import get_color_pallete\n",
    "\n",
    "# Define the features you want to detect\n",
    "keywords=['mountain','water','lake','sky','bridge','pier',\n",
    "          'ceiling','building','skyscraper','wall','fence','windowpane','glass',\n",
    "          'tree','grass','plant','road','sidewalk','earth',\n",
    "          'person','minibike','bicycle','car','van',\n",
    "          'sofa','chair','booth','fountain','railing','signboard','column','awning','desk','lamp',\n",
    "          'streetlight','sculpture','ashcan','bulletin board']\n",
    "\n"
   ]
  },
  {
   "cell_type": "markdown",
   "metadata": {},
   "source": [
    "### ! PLEASE CHECK BEFORE RUNNING FOLLOWING CELL !\n",
    "\n",
    "Make sure you have created a folder to save processed segmentation results without lables\n",
    "\n",
    "Also, you have created a separate folder to save processed segmentation result WITH lables\n",
    "\n",
    "Remember to set path_out and path_out_lgd to the respective folders"
   ]
  },
  {
   "cell_type": "code",
   "execution_count": 6,
   "metadata": {},
   "outputs": [
    {
     "name": "stdout",
     "output_type": "stream",
     "text": [
      "Downloading /home/uqdluo/.mxnet/models/resnet101_v1s-bd93a83c.zip from https://apache-mxnet.s3-accelerate.dualstack.amazonaws.com/gluon/models/resnet101_v1s-bd93a83c.zip...\n"
     ]
    },
    {
     "name": "stderr",
     "output_type": "stream",
     "text": [
      "100121KB [00:03, 26823.98KB/s]                           \n"
     ]
    },
    {
     "name": "stdout",
     "output_type": "stream",
     "text": [
      "self.crop_size 480\n",
      "Downloading /home/uqdluo/.mxnet/models/psp_resnet101_ade-240a4758.zip from https://apache-mxnet.s3-accelerate.dualstack.amazonaws.com/gluon/models/psp_resnet101_ade-240a4758.zip...\n"
     ]
    },
    {
     "name": "stderr",
     "output_type": "stream",
     "text": [
      "100%|██████████| 266773/266773 [00:11<00:00, 23234.16KB/s]\n"
     ]
    },
    {
     "name": "stdout",
     "output_type": "stream",
     "text": [
      "1.Image Files in the folder: 4\n"
     ]
    }
   ],
   "source": [
    "# Process Using CPU, and Define Folders to save in\n",
    "ctx = mx.cpu(0)\n",
    "path_out=\"PSPOutClear/\"   # The Folder you put segment results without lables\n",
    "path_out_lgd=\"PSPOutLabeled/\"   # The Folder you put segment results with a legend\n",
    "\n",
    "# Define a dataframe to save analysis results\n",
    "df_pspnet=pd.DataFrame()\n",
    "\n",
    "# Get pre-trained model | PSPNET Cityscape\n",
    "model = gluoncv.model_zoo.get_model('psp_resnet101_ade', pretrained=True)\n",
    "# Set up legend font\n",
    "fontP = FontProperties()\n",
    "fontP.set_size('x-small') \n",
    "#print(jpg_files) \n",
    "print(\"1.Image Files in the folder:\",len(jpg_files))"
   ]
  },
  {
   "cell_type": "markdown",
   "metadata": {},
   "source": [
    "### !!! Please check before running the following cell\n",
    "\n",
    "Change the number assigned to start_image_index, and end_image_index to segment smaller batches of images\n",
    "\n",
    "Please refer to the output from cells above for the numbers of available images in your folder"
   ]
  },
  {
   "cell_type": "code",
   "execution_count": 7,
   "metadata": {},
   "outputs": [
    {
     "name": "stdout",
     "output_type": "stream",
     "text": [
      "*** \t Reading file:16565.jpg \tGoing through: 1 / 3\n"
     ]
    },
    {
     "data": {
      "image/png": "[encoded data removed]",
      "text/plain": [
       "<Figure size 432x288 with 1 Axes>"
      ]
     },
     "metadata": {
      "needs_background": "light"
     },
     "output_type": "display_data"
    },
    {
     "name": "stdout",
     "output_type": "stream",
     "text": [
      "*** \t Reading file:5219.jpg \tGoing through: 2 / 3\n"
     ]
    },
    {
     "data": {
      "image/png": "[encoded data removed]",
      "text/plain": [
       "<Figure size 432x288 with 1 Axes>"
      ]
     },
     "metadata": {
      "needs_background": "light"
     },
     "output_type": "display_data"
    },
    {
     "name": "stdout",
     "output_type": "stream",
     "text": [
      "*** \t Reading file:6829.jpg \tGoing through: 3 / 3\n"
     ]
    },
    {
     "data": {
      "image/png": "[encoded data removed]",
      "text/plain": [
       "<Figure size 432x288 with 1 Axes>"
      ]
     },
     "metadata": {
      "needs_background": "light"
     },
     "output_type": "display_data"
    },
    {
     "name": "stdout",
     "output_type": "stream",
     "text": [
      "-------All Done! please remeber to run the last cell to clean up your data----------\n"
     ]
    },
    {
     "data": {
      "text/html": [
       "<div>\n",
       "<style scoped>\n",
       "    .dataframe tbody tr th:only-of-type {\n",
       "        vertical-align: middle;\n",
       "    }\n",
       "\n",
       "    .dataframe tbody tr th {\n",
       "        vertical-align: top;\n",
       "    }\n",
       "\n",
       "    .dataframe thead th {\n",
       "        text-align: right;\n",
       "    }\n",
       "</style>\n",
       "<table border=\"1\" class=\"dataframe\">\n",
       "  <thead>\n",
       "    <tr style=\"text-align: right;\">\n",
       "      <th></th>\n",
       "      <th>FID</th>\n",
       "      <th>building</th>\n",
       "      <th>sky</th>\n",
       "      <th>tree</th>\n",
       "      <th>road</th>\n",
       "      <th>grass</th>\n",
       "      <th>sidewalk</th>\n",
       "      <th>person</th>\n",
       "      <th>plant</th>\n",
       "      <th>car</th>\n",
       "      <th>booth</th>\n",
       "      <th>signboard</th>\n",
       "      <th>earth</th>\n",
       "      <th>fence</th>\n",
       "      <th>column</th>\n",
       "      <th>bridge</th>\n",
       "      <th>streetlight</th>\n",
       "      <th>van</th>\n",
       "    </tr>\n",
       "  </thead>\n",
       "  <tbody>\n",
       "    <tr>\n",
       "      <th>0</th>\n",
       "      <td>16565</td>\n",
       "      <td>0.468938</td>\n",
       "      <td>0.065414</td>\n",
       "      <td>0.008086</td>\n",
       "      <td>0.248879</td>\n",
       "      <td>0.001695</td>\n",
       "      <td>0.007824</td>\n",
       "      <td>0.006586</td>\n",
       "      <td>0.002855</td>\n",
       "      <td>0.036328</td>\n",
       "      <td>0.001152</td>\n",
       "      <td>NaN</td>\n",
       "      <td>NaN</td>\n",
       "      <td>NaN</td>\n",
       "      <td>NaN</td>\n",
       "      <td>NaN</td>\n",
       "      <td>NaN</td>\n",
       "      <td>NaN</td>\n",
       "    </tr>\n",
       "    <tr>\n",
       "      <th>1</th>\n",
       "      <td>5219</td>\n",
       "      <td>0.414938</td>\n",
       "      <td>0.084633</td>\n",
       "      <td>0.048852</td>\n",
       "      <td>0.362926</td>\n",
       "      <td>0.000117</td>\n",
       "      <td>0.043070</td>\n",
       "      <td>0.012258</td>\n",
       "      <td>0.018035</td>\n",
       "      <td>0.009262</td>\n",
       "      <td>NaN</td>\n",
       "      <td>0.00591</td>\n",
       "      <td>NaN</td>\n",
       "      <td>NaN</td>\n",
       "      <td>NaN</td>\n",
       "      <td>NaN</td>\n",
       "      <td>NaN</td>\n",
       "      <td>NaN</td>\n",
       "    </tr>\n",
       "    <tr>\n",
       "      <th>2</th>\n",
       "      <td>6829</td>\n",
       "      <td>0.196824</td>\n",
       "      <td>0.211230</td>\n",
       "      <td>0.072117</td>\n",
       "      <td>0.257602</td>\n",
       "      <td>0.002496</td>\n",
       "      <td>0.034027</td>\n",
       "      <td>NaN</td>\n",
       "      <td>0.091969</td>\n",
       "      <td>0.054348</td>\n",
       "      <td>NaN</td>\n",
       "      <td>NaN</td>\n",
       "      <td>0.00032</td>\n",
       "      <td>0.001254</td>\n",
       "      <td>0.00159</td>\n",
       "      <td>0.012109</td>\n",
       "      <td>0.000797</td>\n",
       "      <td>0.045539</td>\n",
       "    </tr>\n",
       "  </tbody>\n",
       "</table>\n",
       "</div>"
      ],
      "text/plain": [
       "     FID  building       sky      tree      road     grass  sidewalk  \\\n",
       "0  16565  0.468938  0.065414  0.008086  0.248879  0.001695  0.007824   \n",
       "1   5219  0.414938  0.084633  0.048852  0.362926  0.000117  0.043070   \n",
       "2   6829  0.196824  0.211230  0.072117  0.257602  0.002496  0.034027   \n",
       "\n",
       "     person     plant       car     booth  signboard    earth     fence  \\\n",
       "0  0.006586  0.002855  0.036328  0.001152        NaN      NaN       NaN   \n",
       "1  0.012258  0.018035  0.009262       NaN    0.00591      NaN       NaN   \n",
       "2       NaN  0.091969  0.054348       NaN        NaN  0.00032  0.001254   \n",
       "\n",
       "    column    bridge  streetlight       van  \n",
       "0      NaN       NaN          NaN       NaN  \n",
       "1      NaN       NaN          NaN       NaN  \n",
       "2  0.00159  0.012109     0.000797  0.045539  "
      ]
     },
     "execution_count": 7,
     "metadata": {},
     "output_type": "execute_result"
    }
   ],
   "source": [
    "\n",
    "# Change file numbers to be segmented\n",
    "start_image_index = 1    # Images before this index will not be processed, first image in folder is index 0\n",
    "end_image_index = 4     #the image at & after this index will not be processed\n",
    "\n",
    "\n",
    "ID=0\n",
    "for filename in jpg_files[start_image_index:end_image_index]: \n",
    "    # 1.Read the jpg file\n",
    "    img = image.imread(path+filename)\n",
    "    #print(path+filename,img.shape)\n",
    "    size=img.shape[0]*img.shape[1]\n",
    "#     print(\"1\",img.shape)\n",
    "#     # Display origin image\n",
    "#     plt.imshow(img.asnumpy())\n",
    "#     plt.show()    \n",
    "\n",
    "    # Normalize the image using dataset mean\n",
    "    transform_fn = transforms.Compose([\n",
    "                   transforms.ToTensor(),\n",
    "                   transforms.Normalize([.485, .456, .406], [.229, .224, .225])\n",
    "    ])\n",
    "    img = transform_fn(img)\n",
    "#    print(\"2\",img.shape)\n",
    "    img = img.expand_dims(0).as_in_context(ctx)\n",
    "    \n",
    "    # Start Timer <debug>\n",
    "#    startTime = datetime.now() # initiate timer\n",
    "    \n",
    "    # Apply pre-trained model to the loaded image\n",
    "    output = model.demo(img)\n",
    "    \n",
    "    # Make prediction using single scale\n",
    "    predict = mx.nd.squeeze(mx.nd.argmax(output, 1)).asnumpy()\n",
    "    \n",
    "    # Add color pallete for visualization\n",
    "    mask = get_color_pallete(predict, 'ade20k')\n",
    "    \n",
    "    # Save predict outcome\n",
    "    fileID=(filename.split('.')[0]).split('_')[0]\n",
    "    print('*** \\t Reading file:%s \\tGoing through: %d / %d'%(filename,ID+1,end_image_index-start_image_index ))\n",
    "    mask.save(path_out+fileID+'.png')\n",
    "    \n",
    "    # Stop Timer <debug>\n",
    "    #print(\"runtime:\",datetime.now()-startTime)\n",
    "    \n",
    "    # Show the predicted mask | PSPNET\n",
    "#     mmask = mpimg.imread(path_out+fileID+'.png')\n",
    "    plt.imshow(mask)\n",
    "#     plt.show()   \n",
    "\n",
    "    # Result Analysis and add labels + legend\n",
    "    # 0:Label, 1:Label ID and 2: Label Color\n",
    "    unique, counts = np.unique(predict, return_counts=True)\n",
    "    ratio_dict=dict(zip(unique, counts))\n",
    "    labelratio_dict={}\n",
    "    legend_dict={}\n",
    "    \n",
    "    # Get Ratio\n",
    "    for key in ratio_dict.keys():\n",
    "            #Rescale RGB to (0,1)\n",
    "            #np.interp(ade20k_id2label[key][2], (0, 255), (0, 1))\n",
    "            legend_dict[ade20k_id2label[key][0]]=np.round(np.interp(ade20k_id2label[key][2], (0, 255), (0, 1)),6)\n",
    "            labelratio_dict[ade20k_id2label[key][0]]=round(ratio_dict[key]/size,6)\n",
    "#     print('1.Index Ratio:',ratio_dict,'\\n2.Label Color:',legend_dict)\n",
    "    \n",
    "    # Show the predicted mask | PSPNET with Legend Label\n",
    "#     mmask = mpimg.imread(path_out+fileID+'.png')\n",
    "#     Display masked image\n",
    "#     plt.imshow(mmask)\n",
    "\n",
    "    # Add Legend (will compress images)\n",
    "    patchList = []\n",
    "    for key in legend_dict:\n",
    "            data_key = mpatches.Patch(color=legend_dict[key], label=key)\n",
    "            patchList.append(data_key)\n",
    "    plt.legend(handles=patchList,loc='best',fontsize='x-small',prop=fontP,labelspacing=0.2)\n",
    "    plt.savefig(path_out_lgd+fileID+'.png', bbox_inches='tight', dpi=150) # dots per inch\n",
    "    \n",
    "    # Display masked image with legend\n",
    "    plt.show()\n",
    "#     print (labelratio_dict)        \n",
    "    df_pspnet.loc[ID,'FID']=fileID\n",
    "    for key in labelratio_dict.keys():\n",
    "        if key in keywords:\n",
    "            df_pspnet.loc[ID,key]=labelratio_dict[key]    \n",
    "    ID+=1\n",
    "\n",
    "# Save the segmentation result to a csv in the folder\n",
    "file_save_name=\"pspnet_{start}-{end}.csv\".format(start=start_image_index, end=end_image_index-1)\n",
    "df_pspnet.to_csv(file_save_name, index=False, encoding='utf-8')\n",
    "print(\"-------All Done! please remeber to run the last cell to clean up your data----------\")\n",
    "df_pspnet.head(3)"
   ]
  },
  {
   "cell_type": "markdown",
   "metadata": {},
   "source": [
    "### 3.1 Cleaning up the .csv file\n",
    "#### Important! - Please close the .csv file before running this cell"
   ]
  },
  {
   "cell_type": "code",
   "execution_count": 8,
   "metadata": {},
   "outputs": [
    {
     "data": {
      "text/html": [
       "<div>\n",
       "<style scoped>\n",
       "    .dataframe tbody tr th:only-of-type {\n",
       "        vertical-align: middle;\n",
       "    }\n",
       "\n",
       "    .dataframe tbody tr th {\n",
       "        vertical-align: top;\n",
       "    }\n",
       "\n",
       "    .dataframe thead th {\n",
       "        text-align: right;\n",
       "    }\n",
       "</style>\n",
       "<table border=\"1\" class=\"dataframe\">\n",
       "  <thead>\n",
       "    <tr style=\"text-align: right;\">\n",
       "      <th></th>\n",
       "      <th>FID</th>\n",
       "      <th>building</th>\n",
       "      <th>sky</th>\n",
       "      <th>tree</th>\n",
       "      <th>road</th>\n",
       "      <th>grass</th>\n",
       "      <th>sidewalk</th>\n",
       "      <th>person</th>\n",
       "      <th>plant</th>\n",
       "      <th>car</th>\n",
       "      <th>booth</th>\n",
       "      <th>signboard</th>\n",
       "      <th>earth</th>\n",
       "      <th>fence</th>\n",
       "      <th>column</th>\n",
       "      <th>bridge</th>\n",
       "      <th>streetlight</th>\n",
       "      <th>van</th>\n",
       "    </tr>\n",
       "  </thead>\n",
       "  <tbody>\n",
       "    <tr>\n",
       "      <th>0</th>\n",
       "      <td>16565</td>\n",
       "      <td>0.468938</td>\n",
       "      <td>0.065414</td>\n",
       "      <td>0.008086</td>\n",
       "      <td>0.248879</td>\n",
       "      <td>0.001695</td>\n",
       "      <td>0.007824</td>\n",
       "      <td>0.006586</td>\n",
       "      <td>0.002855</td>\n",
       "      <td>0.036328</td>\n",
       "      <td>0.001152</td>\n",
       "      <td>0.00000</td>\n",
       "      <td>0.00000</td>\n",
       "      <td>0.000000</td>\n",
       "      <td>0.00000</td>\n",
       "      <td>0.000000</td>\n",
       "      <td>0.000000</td>\n",
       "      <td>0.000000</td>\n",
       "    </tr>\n",
       "    <tr>\n",
       "      <th>1</th>\n",
       "      <td>5219</td>\n",
       "      <td>0.414938</td>\n",
       "      <td>0.084633</td>\n",
       "      <td>0.048852</td>\n",
       "      <td>0.362926</td>\n",
       "      <td>0.000117</td>\n",
       "      <td>0.043070</td>\n",
       "      <td>0.012258</td>\n",
       "      <td>0.018035</td>\n",
       "      <td>0.009262</td>\n",
       "      <td>0.000000</td>\n",
       "      <td>0.00591</td>\n",
       "      <td>0.00000</td>\n",
       "      <td>0.000000</td>\n",
       "      <td>0.00000</td>\n",
       "      <td>0.000000</td>\n",
       "      <td>0.000000</td>\n",
       "      <td>0.000000</td>\n",
       "    </tr>\n",
       "    <tr>\n",
       "      <th>2</th>\n",
       "      <td>6829</td>\n",
       "      <td>0.196824</td>\n",
       "      <td>0.211230</td>\n",
       "      <td>0.072117</td>\n",
       "      <td>0.257602</td>\n",
       "      <td>0.002496</td>\n",
       "      <td>0.034027</td>\n",
       "      <td>0.000000</td>\n",
       "      <td>0.091969</td>\n",
       "      <td>0.054348</td>\n",
       "      <td>0.000000</td>\n",
       "      <td>0.00000</td>\n",
       "      <td>0.00032</td>\n",
       "      <td>0.001254</td>\n",
       "      <td>0.00159</td>\n",
       "      <td>0.012109</td>\n",
       "      <td>0.000797</td>\n",
       "      <td>0.045539</td>\n",
       "    </tr>\n",
       "  </tbody>\n",
       "</table>\n",
       "</div>"
      ],
      "text/plain": [
       "     FID  building       sky      tree      road     grass  sidewalk  \\\n",
       "0  16565  0.468938  0.065414  0.008086  0.248879  0.001695  0.007824   \n",
       "1   5219  0.414938  0.084633  0.048852  0.362926  0.000117  0.043070   \n",
       "2   6829  0.196824  0.211230  0.072117  0.257602  0.002496  0.034027   \n",
       "\n",
       "     person     plant       car     booth  signboard    earth     fence  \\\n",
       "0  0.006586  0.002855  0.036328  0.001152    0.00000  0.00000  0.000000   \n",
       "1  0.012258  0.018035  0.009262  0.000000    0.00591  0.00000  0.000000   \n",
       "2  0.000000  0.091969  0.054348  0.000000    0.00000  0.00032  0.001254   \n",
       "\n",
       "    column    bridge  streetlight       van  \n",
       "0  0.00000  0.000000     0.000000  0.000000  \n",
       "1  0.00000  0.000000     0.000000  0.000000  \n",
       "2  0.00159  0.012109     0.000797  0.045539  "
      ]
     },
     "execution_count": 8,
     "metadata": {},
     "output_type": "execute_result"
    }
   ],
   "source": [
    "# 4.1 Read the csv result\n",
    "df_psp=pd.read_csv(file_save_name, encoding='utf-8', engine='python')\n",
    "\n",
    "# 4.2 Replace the NaN with 0 using fillna(0), and save the result to a new csv file\n",
    "df_psp=df_psp.fillna(0)\n",
    "\n",
    "# save the result to a new csv file\n",
    "df_psp.to_csv(file_save_name, index=False, encoding='utf-8')\n",
    "\n",
    "df_psp.head(3)"
   ]
  },
  {
   "cell_type": "markdown",
   "metadata": {},
   "source": [
    "# End of week 2 assignment"
   ]
  }
 ],
 "metadata": {
  "kernelspec": {
   "display_name": "Python 3 (ipykernel)",
   "language": "python",
   "name": "python3"
  },
  "language_info": {
   "codemirror_mode": {
    "name": "ipython",
    "version": 3
   },
   "file_extension": ".py",
   "mimetype": "text/x-python",
   "name": "python",
   "nbconvert_exporter": "python",
   "pygments_lexer": "ipython3",
   "version": "3.9.10"
  }
 },
 "nbformat": 4,
 "nbformat_minor": 4
}
