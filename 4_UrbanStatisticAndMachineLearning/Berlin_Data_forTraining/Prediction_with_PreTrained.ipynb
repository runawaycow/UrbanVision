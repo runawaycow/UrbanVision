{
 "cells": [
  {
   "cell_type": "code",
   "execution_count": null,
   "metadata": {
    "id": "h8acLE6NIRM3"
   },
   "outputs": [],
   "source": [
    "! pip install numpy\n",
    "! pip install scikit-learn\n",
    "! pip install heatmapz"
   ]
  },
  {
   "cell_type": "markdown",
   "metadata": {
    "id": "oL-niv0uOLtR"
   },
   "source": [
    "## **Prediction with trained model**\n",
    "\n",
    "This code will be using pre-trained model to predict quality value of Hong Kong.\n",
    "\n",
    "For the example case, the model is trained with following sequence of feature lables:\n",
    "[['sky', 'road','sidewalk','tree','plant','building','grass','wall','earth','fence']]"
   ]
  },
  {
   "cell_type": "code",
   "execution_count": 11,
   "metadata": {},
   "outputs": [
    {
     "name": "stdout",
     "output_type": "stream",
     "text": [
      "(1000, 36) Index(['FID', 'angle', 'latitude', 'longitude', 'wall', 'ceiling', 'road',\n",
      "       'earth', 'building', 'sky', 'tree', 'sidewalk', 'person', 'car',\n",
      "       'fence', 'railing', 'signboard', 'bridge', 'minibike', 'grass',\n",
      "       'mountain', 'skyscraper', 'streetlight', 'plant', 'van', 'column',\n",
      "       'windowpane', 'ashcan', 'awning', 'bicycle', 'fountain', 'water',\n",
      "       'sculpture', 'bulletin board', 'lamp', 'chair'],\n",
      "      dtype='object')\n"
     ]
    },
    {
     "data": {
      "text/html": [
       "<div>\n",
       "<style scoped>\n",
       "    .dataframe tbody tr th:only-of-type {\n",
       "        vertical-align: middle;\n",
       "    }\n",
       "\n",
       "    .dataframe tbody tr th {\n",
       "        vertical-align: top;\n",
       "    }\n",
       "\n",
       "    .dataframe thead th {\n",
       "        text-align: right;\n",
       "    }\n",
       "</style>\n",
       "<table border=\"1\" class=\"dataframe\">\n",
       "  <thead>\n",
       "    <tr style=\"text-align: right;\">\n",
       "      <th></th>\n",
       "      <th>FID</th>\n",
       "      <th>angle</th>\n",
       "      <th>latitude</th>\n",
       "      <th>longitude</th>\n",
       "      <th>wall</th>\n",
       "      <th>ceiling</th>\n",
       "      <th>road</th>\n",
       "      <th>earth</th>\n",
       "      <th>building</th>\n",
       "      <th>sky</th>\n",
       "      <th>...</th>\n",
       "      <th>windowpane</th>\n",
       "      <th>ashcan</th>\n",
       "      <th>awning</th>\n",
       "      <th>bicycle</th>\n",
       "      <th>fountain</th>\n",
       "      <th>water</th>\n",
       "      <th>sculpture</th>\n",
       "      <th>bulletin board</th>\n",
       "      <th>lamp</th>\n",
       "      <th>chair</th>\n",
       "    </tr>\n",
       "  </thead>\n",
       "  <tbody>\n",
       "    <tr>\n",
       "      <th>0</th>\n",
       "      <td>14001</td>\n",
       "      <td>174.686492</td>\n",
       "      <td>22.373663</td>\n",
       "      <td>114.214026</td>\n",
       "      <td>0.36457</td>\n",
       "      <td>0.294727</td>\n",
       "      <td>0.264297</td>\n",
       "      <td>0.004277</td>\n",
       "      <td>0.000000</td>\n",
       "      <td>0.000000</td>\n",
       "      <td>...</td>\n",
       "      <td>0.0</td>\n",
       "      <td>0.0</td>\n",
       "      <td>0.0</td>\n",
       "      <td>0.0</td>\n",
       "      <td>0.0</td>\n",
       "      <td>0.0</td>\n",
       "      <td>0.0</td>\n",
       "      <td>0.0</td>\n",
       "      <td>0.0</td>\n",
       "      <td>0.0</td>\n",
       "    </tr>\n",
       "    <tr>\n",
       "      <th>1</th>\n",
       "      <td>14002</td>\n",
       "      <td>209.859314</td>\n",
       "      <td>22.357963</td>\n",
       "      <td>114.173269</td>\n",
       "      <td>0.00000</td>\n",
       "      <td>0.000000</td>\n",
       "      <td>0.425176</td>\n",
       "      <td>0.001836</td>\n",
       "      <td>0.046719</td>\n",
       "      <td>0.072438</td>\n",
       "      <td>...</td>\n",
       "      <td>0.0</td>\n",
       "      <td>0.0</td>\n",
       "      <td>0.0</td>\n",
       "      <td>0.0</td>\n",
       "      <td>0.0</td>\n",
       "      <td>0.0</td>\n",
       "      <td>0.0</td>\n",
       "      <td>0.0</td>\n",
       "      <td>0.0</td>\n",
       "      <td>0.0</td>\n",
       "    </tr>\n",
       "  </tbody>\n",
       "</table>\n",
       "<p>2 rows × 36 columns</p>\n",
       "</div>"
      ],
      "text/plain": [
       "     FID       angle   latitude   longitude     wall   ceiling      road  \\\n",
       "0  14001  174.686492  22.373663  114.214026  0.36457  0.294727  0.264297   \n",
       "1  14002  209.859314  22.357963  114.173269  0.00000  0.000000  0.425176   \n",
       "\n",
       "      earth  building       sky  ...  windowpane  ashcan  awning  bicycle  \\\n",
       "0  0.004277  0.000000  0.000000  ...         0.0     0.0     0.0      0.0   \n",
       "1  0.001836  0.046719  0.072438  ...         0.0     0.0     0.0      0.0   \n",
       "\n",
       "   fountain  water  sculpture  bulletin board  lamp  chair  \n",
       "0       0.0    0.0        0.0             0.0   0.0    0.0  \n",
       "1       0.0    0.0        0.0             0.0   0.0    0.0  \n",
       "\n",
       "[2 rows x 36 columns]"
      ]
     },
     "execution_count": 11,
     "metadata": {},
     "output_type": "execute_result"
    }
   ],
   "source": [
    "### Read Hongkong Data, please swap the Hongkong with the local file of your collection\n",
    "import pandas as pd\n",
    "Hongkong_data= pd.read_csv(\"15_Sha Tin_pspnet_14001-15000.csv\",encoding='utf-8') #, engine='python''gb2312','utf-8'\n",
    "print(Hongkong_data.shape,Hongkong_data.columns)\n",
    "Hongkong_data.head(2)"
   ]
  },
  {
   "cell_type": "markdown",
   "metadata": {
    "id": "eAfzQiK_QINY"
   },
   "source": [
    "PLEASE!! make sure the path to the files and pre-trained model are correct"
   ]
  },
  {
   "cell_type": "code",
   "execution_count": 9,
   "metadata": {
    "colab": {
     "base_uri": "https://localhost:8080/"
    },
    "id": "TLRnpz0FIY9F",
    "outputId": "5cca2893-f7dd-4a77-8dd4-629e33fcfef4"
   },
   "outputs": [
    {
     "name": "stdout",
     "output_type": "stream",
     "text": [
      "(1000, 36) Index(['FID', 'angle', 'latitude', 'longitude', 'wall', 'ceiling', 'road',\n",
      "       'earth', 'building', 'sky', 'tree', 'sidewalk', 'person', 'car',\n",
      "       'fence', 'railing', 'signboard', 'bridge', 'minibike', 'grass',\n",
      "       'mountain', 'skyscraper', 'streetlight', 'plant', 'van', 'column',\n",
      "       'windowpane', 'ashcan', 'awning', 'bicycle', 'fountain', 'water',\n",
      "       'sculpture', 'bulletin board', 'lamp', 'chair'],\n",
      "      dtype='object')\n"
     ]
    }
   ],
   "source": [
    "\n",
    "# xPre is the input features that the prediction is based on\n",
    "xPre= Hongkong_data[['sky', 'road','sidewalk','tree','plant','building','grass','wall','earth','fence']].values\n",
    "Eco_model = pd.read_pickle('Berlin_TrainedModels/4_model_Voting_Selection.sav') # pls check path to the first pre-trained model\n",
    "Enclo_model = pd.read_pickle('Berlin_TrainedModels/5_model_Gaussian_Process.sav') # pls check path to the pre-trained model, remove this if you only have one model\n",
    "Scale_model = pd.read_pickle('Berlin_TrainedModels/7_model_Gaussian_Process.sav') # pls check path to the pre-trained model, remove this if you only have one model\n",
    "\n",
    "#predict with different model for different features, yPre is the outcome of the prediction\n",
    "yPre_Eco=Eco_model.predict(xPre)\n",
    "yPre_Enclo=Enclo_model.predict(xPre)\n",
    "yPre_Scale=Scale_model.predict(xPre)"
   ]
  },
  {
   "cell_type": "markdown",
   "metadata": {
    "id": "BBsNkG0oOzli"
   },
   "source": [
    "## **Save the prediction into the excel file**"
   ]
  },
  {
   "cell_type": "code",
   "execution_count": 10,
   "metadata": {
    "colab": {
     "base_uri": "https://localhost:8080/"
    },
    "id": "lwcf5sDxMBm5",
    "outputId": "e89ea2f5-3e59-4218-e435-c97b1e0589ba"
   },
   "outputs": [
    {
     "name": "stdout",
     "output_type": "stream",
     "text": [
      "Index(['FID', 'angle', 'latitude', 'longitude', 'wall', 'ceiling', 'road',\n",
      "       'earth', 'Q5_Ecology', 'Q6_Enclosure', 'Q8_Scale', 'building', 'sky',\n",
      "       'tree', 'sidewalk', 'person', 'car', 'fence', 'railing', 'signboard',\n",
      "       'bridge', 'minibike', 'grass', 'mountain', 'skyscraper', 'streetlight',\n",
      "       'plant', 'van', 'column', 'windowpane', 'ashcan', 'awning', 'bicycle',\n",
      "       'fountain', 'water', 'sculpture', 'bulletin board', 'lamp', 'chair'],\n",
      "      dtype='object') (1000, 39)\n"
     ]
    }
   ],
   "source": [
    "yPre_List=list(yPre_Eco)\n",
    "column_values = pd.Series(yPre_List)\n",
    "Hongkong_data.insert(loc=8, column='Q5_Ecology', value=column_values)\n",
    "\n",
    "# remove following if you only have one model\n",
    "yPre_List=list(yPre_Enclo)\n",
    "column_values = pd.Series(yPre_List)\n",
    "Hongkong_data.insert(loc=9, column='Q6_Enclosure', value=column_values)\n",
    "\n",
    "yPre_List=list(yPre_Scale)\n",
    "column_values = pd.Series(yPre_List)\n",
    "Hongkong_data.insert(loc=10, column='Q8_Scale', value=column_values)\n",
    "# remove above if you only have one model\n",
    "\n",
    "\n",
    "print(Hongkong_data.columns,Hongkong_data.shape)\n",
    "Hongkong_data.head(1)\n",
    "\n",
    "# put your own file path to save below\n",
    "Hongkong_data.to_csv(\"15_Sha Tin_pspnet_14001-15000_Quality.csv\", index=False, encoding='utf-8')"
   ]
  },
  {
   "cell_type": "code",
   "execution_count": null,
   "metadata": {
    "id": "XW6wjLWOPWHF"
   },
   "outputs": [],
   "source": []
  },
  {
   "cell_type": "code",
   "execution_count": null,
   "metadata": {},
   "outputs": [],
   "source": []
  }
 ],
 "metadata": {
  "colab": {
   "collapsed_sections": [],
   "name": "Prediction_with_PreTrained",
   "provenance": []
  },
  "kernelspec": {
   "display_name": "Python 3 (ipykernel)",
   "language": "python",
   "name": "python3"
  },
  "language_info": {
   "codemirror_mode": {
    "name": "ipython",
    "version": 3
   },
   "file_extension": ".py",
   "mimetype": "text/x-python",
   "name": "python",
   "nbconvert_exporter": "python",
   "pygments_lexer": "ipython3",
   "version": "3.9.10"
  }
 },
 "nbformat": 4,
 "nbformat_minor": 4
}
